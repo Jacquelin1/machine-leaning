{
 "cells": [
  {
   "cell_type": "code",
   "execution_count": 43,
   "metadata": {},
   "outputs": [],
   "source": [
    "import numpy as np\n",
    "from sklearn.model_selection import train_test_split\n",
    "import xgboost as xgb\n",
    "import matplotlib.pyplot as plt"
   ]
  },
  {
   "cell_type": "code",
   "execution_count": 7,
   "metadata": {},
   "outputs": [],
   "source": [
    "data=np.loadtxt('/Users/jacquelin/Documents/python/MachineLearning-imooc-master/机器学习项目实战/dermatology.data.txt',delimiter=',',converters={33: lambda x: x if str(x).isdigit()  else int(x==\"?\") , 34: lambda x:int(x)-1} )\n"
   ]
  },
  {
   "cell_type": "markdown",
   "metadata": {},
   "source": [
    "### 模型构建、类别预测、评估"
   ]
  },
  {
   "cell_type": "code",
   "execution_count": 22,
   "metadata": {},
   "outputs": [],
   "source": [
    "X=data[:,:33]\n",
    "y=data[:,34]\n",
    "X_train,X_test,y_train,y_test=train_test_split(X,y,test_size=0.25,random_state=666)\n"
   ]
  },
  {
   "cell_type": "code",
   "execution_count": 29,
   "metadata": {},
   "outputs": [
    {
     "name": "stdout",
     "output_type": "stream",
     "text": [
      "[0]\ttrain-merror:0.058394\ttest-merror:0.130435\n",
      "[1]\ttrain-merror:0.032847\ttest-merror:0.065217\n",
      "[2]\ttrain-merror:0.025547\ttest-merror:0.032609\n",
      "[3]\ttrain-merror:0.025547\ttest-merror:0.032609\n",
      "[4]\ttrain-merror:0.014599\ttest-merror:0.032609\n",
      "[5]\ttrain-merror:0.010949\ttest-merror:0.032609\n",
      "[2. 4. 0. 1. 0. 0. 5. 2. 0. 0. 1. 3. 0. 2. 2. 0. 1. 5. 0. 0. 0. 4. 2. 0.\n",
      " 3. 0. 4. 1. 1. 0. 3. 4. 1. 1. 4. 1. 2. 2. 0. 3. 1. 1. 2. 0. 0. 0. 2. 3.\n",
      " 2. 2. 4. 0. 2. 2. 5. 4. 1. 0. 0. 0. 2. 1. 0. 2. 4. 3. 0. 5. 0. 2. 1. 3.\n",
      " 2. 3. 1. 5. 4. 0. 4. 3. 3. 3. 4. 2. 4. 2. 1. 0. 1. 0. 3. 0.]\n"
     ]
    },
    {
     "data": {
      "text/plain": [
       "array([[28,  0,  0,  0,  0,  0],\n",
       "       [ 0, 14,  0,  0,  0,  0],\n",
       "       [ 0,  0, 19,  0,  1,  0],\n",
       "       [ 0,  2,  0, 12,  0,  0],\n",
       "       [ 0,  0,  0,  0, 11,  0],\n",
       "       [ 0,  0,  0,  0,  0,  5]])"
      ]
     },
     "execution_count": 29,
     "metadata": {},
     "output_type": "execute_result"
    }
   ],
   "source": [
    "X_train_re=xgb.DMatrix(X_train,label=y_train)\n",
    "X_test_re=xgb.DMatrix(X_test,label=y_test)\n",
    "\n",
    "params={\n",
    "    'booster':'gbtree',\n",
    "    'objective':'multi:softmax',      #多元特征\n",
    "    'num_class':6,\n",
    "    'max_depth':5,\n",
    "    'lambda':10,\n",
    "    'subsample':0.75,\n",
    "    'colsample_bytree':0.75,\n",
    "    'min_child_weight':2,\n",
    "    'eta':0.1,\n",
    "    'seed':0,\n",
    "    'nthread':4,\n",
    "    'silent':1\n",
    "}\n",
    "\n",
    "watchlist=[(X_train_re,'train'),(X_test_re,'test')]\n",
    "num_round=6\n",
    "xgb_clf=xgb.train(params,X_train_re,num_round,watchlist)\n",
    "\n",
    "#yuce\n",
    "y_pred=xgb_clf.predict(X_test_re)\n",
    "print(y_pred)\n",
    "\n",
    "#混淆矩阵\n",
    "from sklearn import metrics\n",
    "metrics.confusion_matrix(y_test,y_pred)\n"
   ]
  },
  {
   "cell_type": "markdown",
   "metadata": {},
   "source": [
    "### 预测概率"
   ]
  },
  {
   "cell_type": "code",
   "execution_count": 34,
   "metadata": {},
   "outputs": [
    {
     "name": "stdout",
     "output_type": "stream",
     "text": [
      "[0]\ttrain-merror:0.058394\ttest-merror:0.130435\n",
      "[1]\ttrain-merror:0.032847\ttest-merror:0.065217\n",
      "[2]\ttrain-merror:0.025547\ttest-merror:0.032609\n",
      "[3]\ttrain-merror:0.025547\ttest-merror:0.032609\n",
      "[4]\ttrain-merror:0.014599\ttest-merror:0.032609\n",
      "[5]\ttrain-merror:0.010949\ttest-merror:0.032609\n"
     ]
    },
    {
     "data": {
      "text/plain": [
       "array([[0.12564251, 0.12925291, 0.3523593 , 0.13828392, 0.13056621,\n",
       "        0.1238952 ],\n",
       "       [0.13791601, 0.14320935, 0.13637848, 0.1438553 , 0.3026428 ,\n",
       "        0.13599803],\n",
       "       [0.36783028, 0.12674853, 0.12070281, 0.13281341, 0.13153891,\n",
       "        0.1203661 ],\n",
       "       [0.14544547, 0.24203062, 0.14382398, 0.16158248, 0.16369474,\n",
       "        0.14342275],\n",
       "       [0.36842665, 0.13521937, 0.12089851, 0.13027456, 0.12461963,\n",
       "        0.12056125],\n",
       "       [0.2688141 , 0.15999675, 0.13832004, 0.14904718, 0.14588779,\n",
       "        0.1379342 ],\n",
       "       [0.12809344, 0.18806155, 0.1266654 , 0.1769151 , 0.13284108,\n",
       "        0.24742348],\n",
       "       [0.12395377, 0.14113235, 0.34762332, 0.1387161 , 0.1263445 ,\n",
       "        0.12222995],\n",
       "       [0.27056035, 0.16103612, 0.1392186 , 0.14685114, 0.14350358,\n",
       "        0.13883023],\n",
       "       [0.2531172 , 0.16956379, 0.1388838 , 0.14649798, 0.15344082,\n",
       "        0.13849637],\n",
       "       [0.13781719, 0.31785476, 0.13082919, 0.14429809, 0.13873656,\n",
       "        0.13046423],\n",
       "       [0.13578592, 0.15659648, 0.13427214, 0.30104303, 0.13840488,\n",
       "        0.13389757],\n",
       "       [0.3670175 , 0.12666409, 0.12043609, 0.12678945, 0.13899274,\n",
       "        0.12010013],\n",
       "       [0.12405939, 0.13432601, 0.34791952, 0.14490883, 0.12645215,\n",
       "        0.12233409],\n",
       "       [0.12281721, 0.1480785 , 0.3444359 , 0.13309146, 0.1304677 ,\n",
       "        0.1211092 ],\n",
       "       [0.36414155, 0.13126639, 0.11949236, 0.13294408, 0.1329966 ,\n",
       "        0.11915902],\n",
       "       [0.12822121, 0.2809741 , 0.12679176, 0.1895127 , 0.1480622 ,\n",
       "        0.12643805],\n",
       "       [0.13480641, 0.20946358, 0.12705545, 0.14952303, 0.13096608,\n",
       "        0.2481854 ],\n",
       "       [0.36677995, 0.12776895, 0.12035814, 0.13390732, 0.1311633 ,\n",
       "        0.12002239],\n",
       "       [0.37144268, 0.12799332, 0.12188821, 0.12857063, 0.12855694,\n",
       "        0.12154818],\n",
       "       [0.36842665, 0.13521937, 0.12089851, 0.13027456, 0.12461963,\n",
       "        0.12056125],\n",
       "       [0.13467985, 0.14147608, 0.13317838, 0.1389343 , 0.3189245 ,\n",
       "        0.13280687],\n",
       "       [0.12641239, 0.13004492, 0.35451844, 0.13300364, 0.13136628,\n",
       "        0.12465438],\n",
       "       [0.36157855, 0.13147329, 0.11865132, 0.13767108, 0.13230544,\n",
       "        0.11832032],\n",
       "       [0.14723492, 0.16423054, 0.1455935 , 0.24474888, 0.15300481,\n",
       "        0.14518733],\n",
       "       [0.3657539 , 0.12749939, 0.12002145, 0.13206367, 0.13497493,\n",
       "        0.11968663],\n",
       "       [0.13687995, 0.15785818, 0.15837122, 0.17217849, 0.2397358 ,\n",
       "        0.13497637],\n",
       "       [0.13659336, 0.31503218, 0.12966742, 0.15263966, 0.13676175,\n",
       "        0.12930568],\n",
       "       [0.13781719, 0.31785476, 0.13082919, 0.14429809, 0.13873656,\n",
       "        0.13046423],\n",
       "       [0.35639077, 0.16117829, 0.11694895, 0.12336058, 0.12549865,\n",
       "        0.11662272],\n",
       "       [0.14159027, 0.16329038, 0.14001176, 0.24931897, 0.16616744,\n",
       "        0.13962118],\n",
       "       [0.13611585, 0.14134009, 0.13459837, 0.14041567, 0.29191473,\n",
       "        0.1556153 ],\n",
       "       [0.14045241, 0.2174397 , 0.1388866 , 0.2155207 , 0.14920142,\n",
       "        0.13849916],\n",
       "       [0.13484277, 0.29548407, 0.1333395 , 0.15342928, 0.14993687,\n",
       "        0.13296752],\n",
       "       [0.13489935, 0.1400769 , 0.13339543, 0.13916074, 0.31944427,\n",
       "        0.1330233 ],\n",
       "       [0.22550525, 0.23765081, 0.1237333 , 0.15679982, 0.13292272,\n",
       "        0.12338813],\n",
       "       [0.119164  , 0.12258824, 0.3341906 , 0.12913264, 0.13071938,\n",
       "        0.1642051 ],\n",
       "       [0.12427004, 0.12784101, 0.3485103 , 0.14769682, 0.12913997,\n",
       "        0.12254182],\n",
       "       [0.36842665, 0.13521937, 0.12089851, 0.13027456, 0.12461963,\n",
       "        0.12056125],\n",
       "       [0.1453247 , 0.16759717, 0.14370458, 0.23331769, 0.16675223,\n",
       "        0.14330368],\n",
       "       [0.13696219, 0.3158828 , 0.13001753, 0.1496068 , 0.13787585,\n",
       "        0.12965482],\n",
       "       [0.15004377, 0.22918925, 0.14837103, 0.1679501 , 0.15648869,\n",
       "        0.14795713],\n",
       "       [0.1267312 , 0.1303729 , 0.35541254, 0.13333906, 0.12917551,\n",
       "        0.12496877],\n",
       "       [0.36580604, 0.13143776, 0.12003856, 0.1392807 , 0.12373322,\n",
       "        0.1197037 ],\n",
       "       [0.36516446, 0.12582994, 0.11982802, 0.12770054, 0.14198333,\n",
       "        0.11949375],\n",
       "       [0.36772656, 0.13212782, 0.12066878, 0.13259263, 0.12655209,\n",
       "        0.12033215],\n",
       "       [0.12313838, 0.14020397, 0.34533662, 0.14193116, 0.12796396,\n",
       "        0.1214259 ],\n",
       "       [0.14475258, 0.16693734, 0.14313881, 0.2548873 , 0.14754446,\n",
       "        0.1427395 ],\n",
       "       [0.1267312 , 0.1303729 , 0.35541254, 0.13333906, 0.12917551,\n",
       "        0.12496877],\n",
       "       [0.1267312 , 0.1303729 , 0.35541254, 0.13333906, 0.12917551,\n",
       "        0.12496877],\n",
       "       [0.13603029, 0.14125125, 0.13451377, 0.15297137, 0.3010948 ,\n",
       "        0.13413852],\n",
       "       [0.36842665, 0.13521937, 0.12089851, 0.13027456, 0.12461963,\n",
       "        0.12056125],\n",
       "       [0.12278906, 0.13980624, 0.34435692, 0.14152852, 0.13043779,\n",
       "        0.12108144],\n",
       "       [0.12549573, 0.1291019 , 0.35194767, 0.13203917, 0.1376651 ,\n",
       "        0.12375046],\n",
       "       [0.1310153 , 0.20779917, 0.12348232, 0.16921441, 0.12728296,\n",
       "        0.24120577],\n",
       "       [0.1329405 , 0.1617868 , 0.13145845, 0.13714002, 0.30558252,\n",
       "        0.13109171],\n",
       "       [0.1330376 , 0.31961682, 0.13155445, 0.14509802, 0.13950565,\n",
       "        0.13118745],\n",
       "       [0.25722966, 0.16652097, 0.14114027, 0.14887816, 0.1454844 ,\n",
       "        0.14074655],\n",
       "       [0.37097782, 0.12923129, 0.12173566, 0.13117664, 0.12548254,\n",
       "        0.12139606],\n",
       "       [0.36842665, 0.13521937, 0.12089851, 0.13027456, 0.12461963,\n",
       "        0.12056125],\n",
       "       [0.12320279, 0.12941985, 0.34551722, 0.13900392, 0.14136681,\n",
       "        0.12148941],\n",
       "       [0.13759549, 0.23191814, 0.13606153, 0.21849349, 0.14024936,\n",
       "        0.13568197],\n",
       "       [0.3675558 , 0.13489974, 0.12061273, 0.12722522, 0.12943028,\n",
       "        0.12027626],\n",
       "       [0.1318682 , 0.14709   , 0.30256593, 0.15402998, 0.13441157,\n",
       "        0.13003431],\n",
       "       [0.13469085, 0.1398604 , 0.13318926, 0.14049125, 0.31895053,\n",
       "        0.13281772],\n",
       "       [0.14006239, 0.16152833, 0.13850091, 0.25741953, 0.16437434,\n",
       "        0.13811454],\n",
       "       [0.36640894, 0.14408357, 0.1202364 , 0.12543295, 0.12393714,\n",
       "        0.11990098],\n",
       "       [0.13436513, 0.20498967, 0.12663954, 0.15381873, 0.13281396,\n",
       "        0.24737296],\n",
       "       [0.36750728, 0.13820027, 0.12059681, 0.12695865, 0.12647662,\n",
       "        0.1202604 ],\n",
       "       [0.12599614, 0.12961671, 0.35335106, 0.13836592, 0.12842627,\n",
       "        0.12424392],\n",
       "       [0.13649197, 0.31479833, 0.12957115, 0.15252635, 0.13740249,\n",
       "        0.1292097 ],\n",
       "       [0.14678945, 0.1692864 , 0.14515299, 0.22881575, 0.16520736,\n",
       "        0.14474806],\n",
       "       [0.12431058, 0.13866   , 0.348624  , 0.13911542, 0.1267082 ,\n",
       "        0.1225818 ],\n",
       "       [0.13428922, 0.1497905 , 0.13279212, 0.29772478, 0.15298174,\n",
       "        0.13242167],\n",
       "       [0.14486139, 0.22426538, 0.1432464 , 0.190895  , 0.15388502,\n",
       "        0.14284681],\n",
       "       [0.14083655, 0.16422102, 0.1324301 , 0.13815367, 0.16567458,\n",
       "        0.25868404],\n",
       "       [0.14144342, 0.14687213, 0.13986655, 0.14591151, 0.26420033,\n",
       "        0.16170608],\n",
       "       [0.36884448, 0.12709801, 0.12103561, 0.1304223 , 0.13190159,\n",
       "        0.12069798],\n",
       "       [0.13489935, 0.1400769 , 0.13339543, 0.13916074, 0.31944427,\n",
       "        0.1330233 ],\n",
       "       [0.13578592, 0.15659648, 0.13427214, 0.30104303, 0.13840488,\n",
       "        0.13389757],\n",
       "       [0.13569055, 0.15135358, 0.13417783, 0.3008316 , 0.14414294,\n",
       "        0.13380352],\n",
       "       [0.13567169, 0.15133253, 0.13415916, 0.30078974, 0.14426196,\n",
       "        0.13378492],\n",
       "       [0.13596135, 0.14117968, 0.13444561, 0.14181645, 0.31252635,\n",
       "        0.13407055],\n",
       "       [0.11437761, 0.12758043, 0.32076737, 0.12799947, 0.19648817,\n",
       "        0.11278696],\n",
       "       [0.13775927, 0.15238349, 0.13622348, 0.14362961, 0.29416063,\n",
       "        0.13584347],\n",
       "       [0.11937861, 0.16990028, 0.3347925 , 0.13262354, 0.12558666,\n",
       "        0.11771842],\n",
       "       [0.14362013, 0.25154305, 0.142019  , 0.15955463, 0.1616404 ,\n",
       "        0.14162283],\n",
       "       [0.35873663, 0.12811677, 0.11771875, 0.12392876, 0.13539909,\n",
       "        0.1361    ],\n",
       "       [0.13309482, 0.3069633 , 0.12634625, 0.17434298, 0.13325888,\n",
       "        0.12599379],\n",
       "       [0.37031138, 0.12641819, 0.12151697, 0.12792735, 0.1326481 ,\n",
       "        0.12117799],\n",
       "       [0.15100795, 0.15534723, 0.14932446, 0.22213903, 0.17327343,\n",
       "        0.14890788],\n",
       "       [0.36752114, 0.12546565, 0.12060136, 0.12696344, 0.13918346,\n",
       "        0.12026493]], dtype=float32)"
      ]
     },
     "execution_count": 34,
     "metadata": {},
     "output_type": "execute_result"
    }
   ],
   "source": [
    "params['objective']='multi:softprob'\n",
    "xgb_clf2=xgb.train(params,X_train_re,num_round,watchlist)\n",
    "y_prob=xgb_clf2.predict(X_test_re)\n",
    "y_prob_re=y_prob.reshape(y_test.shape[0],6)\n",
    "y_prob_re"
   ]
  },
  {
   "cell_type": "code",
   "execution_count": 39,
   "metadata": {},
   "outputs": [
    {
     "data": {
      "text/plain": [
       "array([2, 4, 0, 1, 0, 0, 5, 2, 0, 0, 1, 3, 0, 2, 2, 0, 1, 5, 0, 0, 0, 4,\n",
       "       2, 0, 3, 0, 4, 1, 1, 0, 3, 4, 1, 1, 4, 1, 2, 2, 0, 3, 1, 1, 2, 0,\n",
       "       0, 0, 2, 3, 2, 2, 4, 0, 2, 2, 5, 4, 1, 0, 0, 0, 2, 1, 0, 2, 4, 3,\n",
       "       0, 5, 0, 2, 1, 3, 2, 3, 1, 5, 4, 0, 4, 3, 3, 3, 4, 2, 4, 2, 1, 0,\n",
       "       1, 0, 3, 0])"
      ]
     },
     "execution_count": 39,
     "metadata": {},
     "output_type": "execute_result"
    }
   ],
   "source": [
    "#从预测的6组中选择最大的概率进行输出\n",
    "y_pred_label=np.argmax(y_prob_re,axis=1)\n",
    "y_pred_label"
   ]
  },
  {
   "cell_type": "markdown",
   "metadata": {},
   "source": [
    "### 模型评估"
   ]
  },
  {
   "cell_type": "code",
   "execution_count": 40,
   "metadata": {},
   "outputs": [
    {
     "data": {
      "text/plain": [
       "0.967391304347826"
      ]
     },
     "execution_count": 40,
     "metadata": {},
     "output_type": "execute_result"
    }
   ],
   "source": [
    "acc=metrics.accuracy_score(y_test,y_pred_label)\n",
    "acc"
   ]
  },
  {
   "cell_type": "markdown",
   "metadata": {},
   "source": [
    "### 特征重要度\n"
   ]
  },
  {
   "cell_type": "code",
   "execution_count": 44,
   "metadata": {},
   "outputs": [
    {
     "data": {
      "image/png": "[encoded data removed]",
      "text/plain": [
       "<Figure size 432x288 with 1 Axes>"
      ]
     },
     "metadata": {},
     "output_type": "display_data"
    }
   ],
   "source": [
    "from xgboost import plot_importance\n",
    "plot_importance(xgb_clf)\n",
    "plt.show()"
   ]
  },
  {
   "cell_type": "markdown",
   "metadata": {},
   "source": [
    "### 超参数选择\n"
   ]
  },
  {
   "cell_type": "code",
   "execution_count": 60,
   "metadata": {},
   "outputs": [
    {
     "name": "stdout",
     "output_type": "stream",
     "text": [
      "Fitting 5 folds for each of 20 candidates, totalling 100 fits\n"
     ]
    },
    {
     "name": "stderr",
     "output_type": "stream",
     "text": [
      "[Parallel(n_jobs=4)]: Using backend LokyBackend with 4 concurrent workers.\n"
     ]
    },
    {
     "name": "stdout",
     "output_type": "stream",
     "text": [
      "每轮迭代运行结果:{'mean_fit_time': array([0.04636173, 0.0531672 , 0.10606146, 0.18056664, 0.04313364,\n",
      "       0.05036278, 0.09079356, 0.15830216, 0.03845649, 0.04382582,\n",
      "       0.08738599, 0.15426655, 0.03726912, 0.04514499, 0.08397479,\n",
      "       0.14000902, 0.03595953, 0.04099169, 0.07460542, 0.13341222]), 'std_fit_time': array([0.00381329, 0.00048972, 0.00757019, 0.00492985, 0.00321817,\n",
      "       0.00438367, 0.00143043, 0.00392274, 0.0011889 , 0.00066499,\n",
      "       0.00243783, 0.00276891, 0.0019268 , 0.00120236, 0.00225429,\n",
      "       0.0029114 , 0.00024657, 0.00141545, 0.00085037, 0.00173123]), 'mean_score_time': array([0.00086184, 0.00078878, 0.0009542 , 0.00134544, 0.00079494,\n",
      "       0.00078387, 0.00093169, 0.00123506, 0.00076842, 0.00086317,\n",
      "       0.00100088, 0.00132203, 0.00080614, 0.00081758, 0.00085464,\n",
      "       0.00102162, 0.00081525, 0.0007771 , 0.00083947, 0.00099411]), 'std_score_time': array([1.06042988e-04, 2.66357839e-05, 2.44564010e-05, 2.39631306e-04,\n",
      "       9.62890439e-05, 7.72384061e-05, 7.03812938e-05, 1.68714623e-04,\n",
      "       6.23653057e-05, 1.45989176e-04, 1.36016243e-04, 4.26176101e-04,\n",
      "       1.02911070e-04, 1.28239536e-04, 7.05017244e-05, 4.96829081e-05,\n",
      "       1.48056947e-04, 1.05809145e-04, 3.75086304e-05, 3.49152918e-05]), 'param_min_child_weight': masked_array(data=[1, 1, 1, 1, 3, 3, 3, 3, 5, 5, 5, 5, 7, 7, 7, 7, 9, 9,\n",
      "                   9, 9],\n",
      "             mask=[False, False, False, False, False, False, False, False,\n",
      "                   False, False, False, False, False, False, False, False,\n",
      "                   False, False, False, False],\n",
      "       fill_value='?',\n",
      "            dtype=object), 'param_n_estimators': masked_array(data=[20, 24, 50, 100, 20, 24, 50, 100, 20, 24, 50, 100, 20,\n",
      "                   24, 50, 100, 20, 24, 50, 100],\n",
      "             mask=[False, False, False, False, False, False, False, False,\n",
      "                   False, False, False, False, False, False, False, False,\n",
      "                   False, False, False, False],\n",
      "       fill_value='?',\n",
      "            dtype=object), 'params': [{'min_child_weight': 1, 'n_estimators': 20}, {'min_child_weight': 1, 'n_estimators': 24}, {'min_child_weight': 1, 'n_estimators': 50}, {'min_child_weight': 1, 'n_estimators': 100}, {'min_child_weight': 3, 'n_estimators': 20}, {'min_child_weight': 3, 'n_estimators': 24}, {'min_child_weight': 3, 'n_estimators': 50}, {'min_child_weight': 3, 'n_estimators': 100}, {'min_child_weight': 5, 'n_estimators': 20}, {'min_child_weight': 5, 'n_estimators': 24}, {'min_child_weight': 5, 'n_estimators': 50}, {'min_child_weight': 5, 'n_estimators': 100}, {'min_child_weight': 7, 'n_estimators': 20}, {'min_child_weight': 7, 'n_estimators': 24}, {'min_child_weight': 7, 'n_estimators': 50}, {'min_child_weight': 7, 'n_estimators': 100}, {'min_child_weight': 9, 'n_estimators': 20}, {'min_child_weight': 9, 'n_estimators': 24}, {'min_child_weight': 9, 'n_estimators': 50}, {'min_child_weight': 9, 'n_estimators': 100}], 'split0_test_score': array([0.97264875, 1.        , 0.99316219, 0.99316219, 0.99316219,\n",
      "       0.99316219, 0.99316219, 0.99316219, 0.99316219, 0.99316219,\n",
      "       0.99316219, 0.99316219, 0.80170345, 0.80170345, 0.85640595,\n",
      "       0.8837572 , 0.8837572 , 0.80170345, 0.85640595, 0.93845969]), 'split1_test_score': array([0.94343434, 0.94343434, 0.94343434, 0.94343434, 0.97171717,\n",
      "       0.97171717, 0.94343434, 0.94343434, 0.94343434, 0.94343434,\n",
      "       0.94343434, 0.90808081, 0.82323232, 0.79494949, 0.93636364,\n",
      "       0.93636364, 0.82323232, 0.82323232, 0.90808081, 0.90808081]), 'split2_test_score': array([1.        , 1.        , 1.        , 1.        , 0.97158269,\n",
      "       1.        , 1.        , 1.        , 0.85791343, 0.85791343,\n",
      "       0.85791343, 0.85791343, 0.74424418, 0.74424418, 0.88633075,\n",
      "       0.85791343, 0.71582686, 0.71582686, 0.74424418, 0.85791343]), 'split3_test_score': array([0.85791343, 0.85791343, 0.88633075, 0.82949612, 0.94316537,\n",
      "       0.94316537, 0.97158269, 0.94316537, 0.97158269, 0.97158269,\n",
      "       0.97158269, 0.97158269, 0.87922642, 0.87922642, 0.87922642,\n",
      "       0.90764373, 0.87922642, 0.87922642, 0.94316537, 0.90764373]), 'split4_test_score': array([0.9418062 , 0.9418062 , 0.9418062 , 0.9418062 , 0.9418062 ,\n",
      "       0.9418062 , 0.9418062 , 0.9418062 , 0.91270931, 0.9418062 ,\n",
      "       0.9418062 , 0.9418062 , 0.57809498, 0.57809498, 0.57809498,\n",
      "       0.57809498, 0.57809498, 0.57809498, 0.57809498, 0.57809498]), 'mean_test_score': array([0.94349035, 0.94918021, 0.95335824, 0.94215725, 0.96473916,\n",
      "       0.97033965, 0.97015971, 0.96455922, 0.93652902, 0.94215725,\n",
      "       0.94215725, 0.93493171, 0.76680494, 0.76102451, 0.82930884,\n",
      "       0.8349987 , 0.77827402, 0.76120445, 0.80812706, 0.84059799]), 'std_test_score': array([0.04743482, 0.05201083, 0.04110586, 0.0608472 , 0.01951148,\n",
      "       0.02418962, 0.02423714, 0.02644401, 0.04740159, 0.04594423,\n",
      "       0.04594423, 0.04791301, 0.1018999 , 0.09930415, 0.1258335 ,\n",
      "       0.12846946, 0.1151344 , 0.10375007, 0.13099711, 0.1311369 ]), 'rank_test_score': array([ 7,  6,  5,  8,  3,  1,  2,  4, 11,  9,  9, 12, 18, 20, 15, 14, 17,\n",
      "       19, 16, 13], dtype=int32), 'split0_train_score': array([0.99286325, 0.99286325, 1.        , 1.        , 0.99286325,\n",
      "       0.99286325, 0.99286325, 0.99286325, 0.9571795 , 0.9571795 ,\n",
      "       0.9571795 , 0.97858975, 0.92863251, 0.91435901, 0.96431625,\n",
      "       0.95539532, 0.83407058, 0.84120733, 0.90543807, 0.90543807]), 'split1_train_score': array([0.99292397, 1.        , 1.        , 1.        , 0.98584795,\n",
      "       0.98584795, 0.99292397, 0.99292397, 0.97877192, 0.98584795,\n",
      "       0.98584795, 0.98584795, 0.77002913, 0.77002913, 0.95754384,\n",
      "       0.90624265, 0.79833324, 0.77002913, 0.77710516, 0.80540927]), 'split2_train_score': array([0.98586527, 0.99293264, 1.        , 1.        , 0.98586527,\n",
      "       0.98586527, 0.98586527, 0.98586527, 0.97879791, 0.97879791,\n",
      "       0.97879791, 0.97879791, 0.81271483, 0.81271483, 0.91342478,\n",
      "       0.84628481, 0.8197822 , 0.8197822 , 0.82684956, 0.86748691]), 'split3_train_score': array([0.99293264, 0.99293264, 1.        , 1.        , 0.98586527,\n",
      "       0.99293264, 0.99293264, 1.        , 0.95052845, 0.96466318,\n",
      "       0.99293264, 0.99293264, 0.77737801, 0.92932635, 0.95759581,\n",
      "       0.93462688, 0.7685438 , 0.77737801, 0.94169424, 0.89045585]), 'split4_train_score': array([1.        , 1.        , 1.        , 1.        , 0.99297308,\n",
      "       0.99297308, 0.99297308, 0.99297308, 0.99297308, 0.98594617,\n",
      "       0.99297308, 0.99297308, 0.91567702, 0.94378468, 0.95081159,\n",
      "       0.95783851, 0.78216563, 0.83135403, 0.84365113, 0.87878571]), 'mean_train_score': array([0.99291703, 0.9957457 , 1.        , 1.        , 0.98868296,\n",
      "       0.99009644, 0.99151164, 0.99292512, 0.97165017, 0.97448694,\n",
      "       0.98154622, 0.98582826, 0.8408863 , 0.8740428 , 0.94873846,\n",
      "       0.92007763, 0.80057909, 0.80795014, 0.85894763, 0.86951516]), 'std_train_score': array([0.00446988, 0.00347371, 0.        , 0.        , 0.00345821,\n",
      "       0.00346199, 0.0028234 , 0.00446993, 0.01556922, 0.01161916,\n",
      "       0.01326664, 0.00637719, 0.06803047, 0.06946303, 0.01816595,\n",
      "       0.04128363, 0.02391986, 0.02886672, 0.05825946, 0.03443426])}\n",
      "参数的最佳取值：{'min_child_weight': 3, 'n_estimators': 24}\n"
     ]
    },
    {
     "name": "stderr",
     "output_type": "stream",
     "text": [
      "[Parallel(n_jobs=4)]: Done 100 out of 100 | elapsed:    2.4s finished\n",
      "/Users/jacquelin/anaconda3/lib/python3.6/site-packages/sklearn/model_selection/_search.py:841: DeprecationWarning: The default of the `iid` parameter will change from True to False in version 0.22 and will be removed in 0.24. This will change numeric results when test-set sizes are unequal.\n",
      "  DeprecationWarning)\n"
     ]
    }
   ],
   "source": [
    "from sklearn.model_selection import GridSearchCV\n",
    "\n",
    "cv_params={\n",
    "    'min_child_weight':range(1,10,2),\n",
    "    'n_estimators':[20,24,50,100]\n",
    "}\n",
    "\n",
    "other_params ={\n",
    "    'booster':'gbtree',\n",
    "    'objective':  'multi:softmax',\n",
    "    'subsample':0.75,\n",
    "    'lambda':1,\n",
    "    'max_depth':5,\n",
    "    'colsample_bytree':0.75,\n",
    "    'min_child_weight':2,\n",
    "    'eta': 0.025,\n",
    "    'seed':0,\n",
    "    'nthread':8,\n",
    "     'silent':1\n",
    "}\n",
    "model = xgb.XGBClassifier(**other_params)    #**不能省略,不定长传参\n",
    "optimized_GBM = GridSearchCV(estimator=model, param_grid=cv_params, scoring='r2', cv=5, verbose=1, n_jobs=4)\n",
    "optimized_GBM.fit(X_train, y_train)\n",
    "evalute_result = optimized_GBM.cv_results_\n",
    "print('每轮迭代运行结果:{0}'.format(evalute_result))\n",
    "print('参数的最佳取值：{0}'.format(optimized_GBM.best_params_))\n"
   ]
  },
  {
   "cell_type": "code",
   "execution_count": null,
   "metadata": {},
   "outputs": [],
   "source": []
  }
 ],
 "metadata": {
  "kernelspec": {
   "display_name": "Python 3",
   "language": "python",
   "name": "python3"
  },
  "language_info": {
   "codemirror_mode": {
    "name": "ipython",
    "version": 3
   },
   "file_extension": ".py",
   "mimetype": "text/x-python",
   "name": "python",
   "nbconvert_exporter": "python",
   "pygments_lexer": "ipython3",
   "version": "3.6.5"
  }
 },
 "nbformat": 4,
 "nbformat_minor": 2
}
